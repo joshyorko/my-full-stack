{
 "cells": [
  {
   "cell_type": "code",
   "execution_count": 2,
   "metadata": {},
   "outputs": [
    {
     "name": "stdout",
     "output_type": "stream",
     "text": [
      "Requirement already satisfied: pandas in ./.venv/lib/python3.12/site-packages (2.2.3)\n",
      "Collecting requests\n",
      "  Using cached requests-2.32.3-py3-none-any.whl.metadata (4.6 kB)\n",
      "Collecting rich\n",
      "  Using cached rich-13.8.1-py3-none-any.whl.metadata (18 kB)\n",
      "Requirement already satisfied: numpy>=1.26.0 in ./.venv/lib/python3.12/site-packages (from pandas) (2.1.1)\n",
      "Requirement already satisfied: python-dateutil>=2.8.2 in ./.venv/lib/python3.12/site-packages (from pandas) (2.9.0.post0)\n",
      "Requirement already satisfied: pytz>=2020.1 in ./.venv/lib/python3.12/site-packages (from pandas) (2024.2)\n",
      "Requirement already satisfied: tzdata>=2022.7 in ./.venv/lib/python3.12/site-packages (from pandas) (2024.1)\n",
      "Collecting charset-normalizer<4,>=2 (from requests)\n",
      "  Using cached charset_normalizer-3.3.2-cp312-cp312-manylinux_2_17_x86_64.manylinux2014_x86_64.whl.metadata (33 kB)\n",
      "Collecting idna<4,>=2.5 (from requests)\n",
      "  Using cached idna-3.10-py3-none-any.whl.metadata (10 kB)\n",
      "Collecting urllib3<3,>=1.21.1 (from requests)\n",
      "  Using cached urllib3-2.2.3-py3-none-any.whl.metadata (6.5 kB)\n",
      "Collecting certifi>=2017.4.17 (from requests)\n",
      "  Using cached certifi-2024.8.30-py3-none-any.whl.metadata (2.2 kB)\n",
      "Collecting markdown-it-py>=2.2.0 (from rich)\n",
      "  Using cached markdown_it_py-3.0.0-py3-none-any.whl.metadata (6.9 kB)\n",
      "Requirement already satisfied: pygments<3.0.0,>=2.13.0 in ./.venv/lib/python3.12/site-packages (from rich) (2.18.0)\n",
      "Collecting mdurl~=0.1 (from markdown-it-py>=2.2.0->rich)\n",
      "  Using cached mdurl-0.1.2-py3-none-any.whl.metadata (1.6 kB)\n",
      "Requirement already satisfied: six>=1.5 in ./.venv/lib/python3.12/site-packages (from python-dateutil>=2.8.2->pandas) (1.16.0)\n",
      "Using cached requests-2.32.3-py3-none-any.whl (64 kB)\n",
      "Using cached rich-13.8.1-py3-none-any.whl (241 kB)\n",
      "Using cached certifi-2024.8.30-py3-none-any.whl (167 kB)\n",
      "Using cached charset_normalizer-3.3.2-cp312-cp312-manylinux_2_17_x86_64.manylinux2014_x86_64.whl (141 kB)\n",
      "Using cached idna-3.10-py3-none-any.whl (70 kB)\n",
      "Using cached markdown_it_py-3.0.0-py3-none-any.whl (87 kB)\n",
      "Using cached urllib3-2.2.3-py3-none-any.whl (126 kB)\n",
      "Using cached mdurl-0.1.2-py3-none-any.whl (10.0 kB)\n",
      "Installing collected packages: urllib3, mdurl, idna, charset-normalizer, certifi, requests, markdown-it-py, rich\n",
      "Successfully installed certifi-2024.8.30 charset-normalizer-3.3.2 idna-3.10 markdown-it-py-3.0.0 mdurl-0.1.2 requests-2.32.3 rich-13.8.1 urllib3-2.2.3\n",
      "Note: you may need to restart the kernel to use updated packages.\n"
     ]
    }
   ],
   "source": [
    "%pip install pandas requests rich"
   ]
  },
  {
   "cell_type": "code",
   "execution_count": 1,
   "metadata": {},
   "outputs": [],
   "source": [
    "import pandas as pd\n",
    "\n",
    "import requests \n",
    "\n",
    "\n",
    "\n",
    "df = pd.read_csv('allocation_trevor.csv')"
   ]
  },
  {
   "cell_type": "code",
   "execution_count": null,
   "metadata": {},
   "outputs": [],
   "source": [
    "df.loc[:,['DCN','CLEARNING HOUSE','ELECTRONIC ATTACHMENTS']].sample(10)"
   ]
  },
  {
   "cell_type": "code",
   "execution_count": 5,
   "metadata": {},
   "outputs": [
    {
     "data": {
      "text/html": [
       "<pre style=\"white-space:pre;overflow-x:auto;line-height:normal;font-family:Menlo,'DejaVu Sans Mono',consolas,'Courier New',monospace\">Successfully fetched image data\n",
       "</pre>\n"
      ],
      "text/plain": [
       "Successfully fetched image data\n"
      ]
     },
     "metadata": {},
     "output_type": "display_data"
    },
    {
     "data": {
      "text/html": [
       "<pre style=\"white-space:pre;overflow-x:auto;line-height:normal;font-family:Menlo,'DejaVu Sans Mono',consolas,'Courier New',monospace\"><span style=\"font-weight: bold\">{</span>\n",
       "    <span style=\"color: #008000; text-decoration-color: #008000\">'claims'</span>: <span style=\"font-weight: bold\">[</span>\n",
       "        <span style=\"font-weight: bold\">{</span>\n",
       "            <span style=\"color: #008000; text-decoration-color: #008000\">'provider'</span>: <span style=\"color: #008000; text-decoration-color: #008000\">'DentalXChange'</span>,\n",
       "            <span style=\"color: #008000; text-decoration-color: #008000\">'claim'</span>: <span style=\"font-weight: bold\">{</span>\n",
       "                <span style=\"color: #008000; text-decoration-color: #008000\">'insured_id'</span>: <span style=\"color: #008000; text-decoration-color: #008000\">'542728318'</span>,\n",
       "                <span style=\"color: #008000; text-decoration-color: #008000\">'patient_first_name'</span>: <span style=\"color: #008000; text-decoration-color: #008000\">'Felicitas'</span>,\n",
       "                <span style=\"color: #008000; text-decoration-color: #008000\">'patient_last_name'</span>: <span style=\"color: #008000; text-decoration-color: #008000\">'Castellanos'</span>,\n",
       "                <span style=\"color: #008000; text-decoration-color: #008000\">'narrative'</span>: <span style=\"color: #008000; text-decoration-color: #008000\">'No Narrative Given'</span>,\n",
       "                <span style=\"color: #008000; text-decoration-color: #008000\">'attachment_id'</span>: <span style=\"color: #008000; text-decoration-color: #008000\">'50072560'</span>,\n",
       "                <span style=\"color: #008000; text-decoration-color: #008000\">'detail'</span>: <span style=\"color: #008000; text-decoration-color: #008000\">'Images Found'</span>,\n",
       "                <span style=\"color: #008000; text-decoration-color: #008000\">'attachments'</span>: <span style=\"font-weight: bold\">[</span>\n",
       "                    <span style=\"font-weight: bold\">{</span>\n",
       "                        <span style=\"color: #008000; text-decoration-color: #008000\">'file_name'</span>: <span style=\"color: #008000; text-decoration-color: #008000\">'2024_09_06_19_18_37.jpg'</span>,\n",
       "                        <span style=\"color: #008000; text-decoration-color: #008000\">'content_type'</span>: <span style=\"color: #008000; text-decoration-color: #008000\">'jpg'</span>,\n",
       "                        <span style=\"color: #008000; text-decoration-color: #008000\">'creation_date'</span>: <span style=\"color: #008000; text-decoration-color: #008000\">'2024-09-06T00:00:00'</span>,\n",
       "                        <span style=\"color: #008000; text-decoration-color: #008000\">'base64_encoded_file'</span>: \n",
       "<span style=\"color: #008000; text-decoration-color: #008000\">'http://localhost:8000/prod/attachment/a02952b9525d89017490665c5259e1d9ad7c99159e6d600a1bed7cefb3493827.jpg'</span>\n",
       "                    <span style=\"font-weight: bold\">}</span>,\n",
       "                    <span style=\"font-weight: bold\">{</span>\n",
       "                        <span style=\"color: #008000; text-decoration-color: #008000\">'file_name'</span>: <span style=\"color: #008000; text-decoration-color: #008000\">'Image_50072560'</span>,\n",
       "                        <span style=\"color: #008000; text-decoration-color: #008000\">'content_type'</span>: <span style=\"color: #008000; text-decoration-color: #008000\">'jpg'</span>,\n",
       "                        <span style=\"color: #008000; text-decoration-color: #008000\">'creation_date'</span>: <span style=\"color: #008000; text-decoration-color: #008000\">'2024-08-15T00:00:00'</span>,\n",
       "                        <span style=\"color: #008000; text-decoration-color: #008000\">'base64_encoded_file'</span>: \n",
       "<span style=\"color: #008000; text-decoration-color: #008000\">'http://localhost:8000/prod/attachment/20f080f95c04501006fae3671767a12db9e81c425c8286e5debab9c1ab7f085c.jpg'</span>\n",
       "                    <span style=\"font-weight: bold\">}</span>\n",
       "                <span style=\"font-weight: bold\">]</span>\n",
       "            <span style=\"font-weight: bold\">}</span>\n",
       "        <span style=\"font-weight: bold\">}</span>\n",
       "    <span style=\"font-weight: bold\">]</span>,\n",
       "    <span style=\"color: #008000; text-decoration-color: #008000\">'total'</span>: <span style=\"color: #008080; text-decoration-color: #008080; font-weight: bold\">2</span>\n",
       "<span style=\"font-weight: bold\">}</span>\n",
       "</pre>\n"
      ],
      "text/plain": [
       "\u001b[1m{\u001b[0m\n",
       "    \u001b[32m'claims'\u001b[0m: \u001b[1m[\u001b[0m\n",
       "        \u001b[1m{\u001b[0m\n",
       "            \u001b[32m'provider'\u001b[0m: \u001b[32m'DentalXChange'\u001b[0m,\n",
       "            \u001b[32m'claim'\u001b[0m: \u001b[1m{\u001b[0m\n",
       "                \u001b[32m'insured_id'\u001b[0m: \u001b[32m'542728318'\u001b[0m,\n",
       "                \u001b[32m'patient_first_name'\u001b[0m: \u001b[32m'Felicitas'\u001b[0m,\n",
       "                \u001b[32m'patient_last_name'\u001b[0m: \u001b[32m'Castellanos'\u001b[0m,\n",
       "                \u001b[32m'narrative'\u001b[0m: \u001b[32m'No Narrative Given'\u001b[0m,\n",
       "                \u001b[32m'attachment_id'\u001b[0m: \u001b[32m'50072560'\u001b[0m,\n",
       "                \u001b[32m'detail'\u001b[0m: \u001b[32m'Images Found'\u001b[0m,\n",
       "                \u001b[32m'attachments'\u001b[0m: \u001b[1m[\u001b[0m\n",
       "                    \u001b[1m{\u001b[0m\n",
       "                        \u001b[32m'file_name'\u001b[0m: \u001b[32m'2024_09_06_19_18_37.jpg'\u001b[0m,\n",
       "                        \u001b[32m'content_type'\u001b[0m: \u001b[32m'jpg'\u001b[0m,\n",
       "                        \u001b[32m'creation_date'\u001b[0m: \u001b[32m'2024-09-06T00:00:00'\u001b[0m,\n",
       "                        \u001b[32m'base64_encoded_file'\u001b[0m: \n",
       "\u001b[32m'http://localhost:8000/prod/attachment/a02952b9525d89017490665c5259e1d9ad7c99159e6d600a1bed7cefb3493827.jpg'\u001b[0m\n",
       "                    \u001b[1m}\u001b[0m,\n",
       "                    \u001b[1m{\u001b[0m\n",
       "                        \u001b[32m'file_name'\u001b[0m: \u001b[32m'Image_50072560'\u001b[0m,\n",
       "                        \u001b[32m'content_type'\u001b[0m: \u001b[32m'jpg'\u001b[0m,\n",
       "                        \u001b[32m'creation_date'\u001b[0m: \u001b[32m'2024-08-15T00:00:00'\u001b[0m,\n",
       "                        \u001b[32m'base64_encoded_file'\u001b[0m: \n",
       "\u001b[32m'http://localhost:8000/prod/attachment/20f080f95c04501006fae3671767a12db9e81c425c8286e5debab9c1ab7f085c.jpg'\u001b[0m\n",
       "                    \u001b[1m}\u001b[0m\n",
       "                \u001b[1m]\u001b[0m\n",
       "            \u001b[1m}\u001b[0m\n",
       "        \u001b[1m}\u001b[0m\n",
       "    \u001b[1m]\u001b[0m,\n",
       "    \u001b[32m'total'\u001b[0m: \u001b[1;36m2\u001b[0m\n",
       "\u001b[1m}\u001b[0m\n"
      ]
     },
     "metadata": {},
     "output_type": "display_data"
    }
   ],
   "source": [
    "import requests\n",
    "import os\n",
    "import json\n",
    "from rich import print\n",
    "\n",
    "# Environment variables\n",
    "BASE_URL = os.getenv(\"BASE_URL\", \"http://localhost:8007\")\n",
    "LOGIN_URL = f\"{BASE_URL}/login\"\n",
    "ALL_SERVICES_URL = f\"{BASE_URL}/prod/all/{{attachment_id}}?provider={{provider}}\"\n",
    "SECRET_TOKEN = \"pq2_smFS_kQ8wrmP5beIo3mxKpWbHZH8z7klx2uUxxM=\"\n",
    "\n",
    "# Login payload and headers\n",
    "login_payload = json.dumps({\"secret_token\": SECRET_TOKEN})\n",
    "login_headers = {\n",
    "    'Content-Type': 'application/json'\n",
    "}\n",
    "\n",
    "# Perform login\n",
    "response = requests.post(LOGIN_URL, headers=login_headers, data=login_payload)\n",
    "response.raise_for_status()\n",
    "bearer_token_json = response.json()\n",
    "token = bearer_token_json['accessToken']\n",
    "\n",
    "# Fetch image data\n",
    "atacchment_id = \"50072560\"\n",
    "provider = \"ehg\"\n",
    "url = ALL_SERVICES_URL.format(attachment_id=atacchment_id, provider=provider.lower())\n",
    "headers = {\"Authorization\": f\"Bearer {token}\"}\n",
    "\n",
    "response = requests.get(url, headers=headers)\n",
    "if response.status_code == 200:\n",
    "    print(\"Successfully fetched image data\")\n",
    "    print(response.json())\n",
    "else:\n",
    "    print(f\"Failed to fetch image data, status code: {response.status_code}\")\n",
    "    print(response.text)"
   ]
  },
  {
   "cell_type": "code",
   "execution_count": null,
   "metadata": {},
   "outputs": [],
   "source": []
  }
 ],
 "metadata": {
  "kernelspec": {
   "display_name": ".venv",
   "language": "python",
   "name": "python3"
  },
  "language_info": {
   "codemirror_mode": {
    "name": "ipython",
    "version": 3
   },
   "file_extension": ".py",
   "mimetype": "text/x-python",
   "name": "python",
   "nbconvert_exporter": "python",
   "pygments_lexer": "ipython3",
   "version": "3.12.3"
  }
 },
 "nbformat": 4,
 "nbformat_minor": 2
}
